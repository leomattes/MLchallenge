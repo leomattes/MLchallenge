{
 "cells": [
  {
   "cell_type": "markdown",
   "id": "2821b999",
   "metadata": {},
   "source": [
    "# 3. Similitud entre productos\n",
    "Descripción\n",
    "Un desafío constante en MELI es el de poder agrupar productos similares utilizando\n",
    "algunos atributos de estos como pueden ser el título, la descripción o su imagen.\n",
    "Para este desafío tenemos un dataset “items_titles.csv” que tiene títulos de 30 mil\n",
    "productos de 3 categorías diferentes de Mercado Libre Brasil"
   ]
  },
  {
   "cell_type": "markdown",
   "id": "7ece5c3c",
   "metadata": {},
   "source": [
    "####  Objetivos : \n",
    "El objetivo del desafío es poder generar una Jupyter notebook que determine cuán similares son dos títulos del dataset “item_titles_test.csv” generando como output un listado, donde ordenando por score de similitud podamos encontrar los pares de productosmás similares en nuestro dataset de test.\n",
    "\n",
    "Tarefas :\n",
    " 1. Tokenizador de descritivos  [X]\n",
    " 2. Método de similaridade  [X]\n",
    " 3. Algoritmo eficiente para rodar em todo dataset [x]\n",
    " 4. Gerar output [X]"
   ]
  },
  {
   "cell_type": "markdown",
   "id": "a550722f",
   "metadata": {},
   "source": []
  },
  {
   "cell_type": "code",
   "execution_count": 22,
   "id": "234725cf",
   "metadata": {},
   "outputs": [],
   "source": [
    "import pandas as pd \n",
    "import numpy as np\n",
    "import matplotlib.pyplot as plt\n",
    "dtitens = pd.read_csv('items_titles.csv')\n"
   ]
  },
  {
   "cell_type": "code",
   "execution_count": 23,
   "id": "3c23905e",
   "metadata": {},
   "outputs": [
    {
     "name": "stdout",
     "output_type": "stream",
     "text": [
      "Itens Duplicados :\n"
     ]
    },
    {
     "data": {
      "text/html": [
       "<div>\n",
       "<style scoped>\n",
       "    .dataframe tbody tr th:only-of-type {\n",
       "        vertical-align: middle;\n",
       "    }\n",
       "\n",
       "    .dataframe tbody tr th {\n",
       "        vertical-align: top;\n",
       "    }\n",
       "\n",
       "    .dataframe thead th {\n",
       "        text-align: right;\n",
       "    }\n",
       "</style>\n",
       "<table border=\"1\" class=\"dataframe\">\n",
       "  <thead>\n",
       "    <tr style=\"text-align: right;\">\n",
       "      <th></th>\n",
       "      <th>ITE_ITEM_TITLE</th>\n",
       "    </tr>\n",
       "  </thead>\n",
       "  <tbody>\n",
       "  </tbody>\n",
       "</table>\n",
       "</div>"
      ],
      "text/plain": [
       "Empty DataFrame\n",
       "Columns: [ITE_ITEM_TITLE]\n",
       "Index: []"
      ]
     },
     "execution_count": 23,
     "metadata": {},
     "output_type": "execute_result"
    }
   ],
   "source": [
    "# Duplicados\n",
    "print('Itens Duplicados :')\n",
    "dtitens[dtitens['ITE_ITEM_TITLE'].duplicated(keep='last')]\n",
    "\n"
   ]
  },
  {
   "cell_type": "code",
   "execution_count": 24,
   "id": "12193af6",
   "metadata": {},
   "outputs": [
    {
     "name": "stdout",
     "output_type": "stream",
     "text": [
      "Itens Nulos :\n"
     ]
    },
    {
     "data": {
      "text/html": [
       "<div>\n",
       "<style scoped>\n",
       "    .dataframe tbody tr th:only-of-type {\n",
       "        vertical-align: middle;\n",
       "    }\n",
       "\n",
       "    .dataframe tbody tr th {\n",
       "        vertical-align: top;\n",
       "    }\n",
       "\n",
       "    .dataframe thead th {\n",
       "        text-align: right;\n",
       "    }\n",
       "</style>\n",
       "<table border=\"1\" class=\"dataframe\">\n",
       "  <thead>\n",
       "    <tr style=\"text-align: right;\">\n",
       "      <th></th>\n",
       "      <th>ITE_ITEM_TITLE</th>\n",
       "    </tr>\n",
       "  </thead>\n",
       "  <tbody>\n",
       "  </tbody>\n",
       "</table>\n",
       "</div>"
      ],
      "text/plain": [
       "Empty DataFrame\n",
       "Columns: [ITE_ITEM_TITLE]\n",
       "Index: []"
      ]
     },
     "execution_count": 24,
     "metadata": {},
     "output_type": "execute_result"
    }
   ],
   "source": [
    "print('Itens Nulos :')\n",
    "dtitens[dtitens['ITE_ITEM_TITLE'].isnull()]"
   ]
  },
  {
   "cell_type": "code",
   "execution_count": 25,
   "id": "8c03d664",
   "metadata": {},
   "outputs": [],
   "source": [
    "# Create similarity Function"
   ]
  },
  {
   "cell_type": "code",
   "execution_count": 26,
   "id": "027d370f",
   "metadata": {},
   "outputs": [
    {
     "name": "stderr",
     "output_type": "stream",
     "text": [
      "[nltk_data] Downloading package stopwords to /home/leo/nltk_data...\n",
      "[nltk_data]   Package stopwords is already up-to-date!\n"
     ]
    }
   ],
   "source": [
    "import nltk\n",
    "from nltk import tokenize  \n",
    "nltk.download('stopwords')\n",
    "\n",
    "stopwords = nltk.corpus.stopwords.words('portuguese')\n",
    "\n",
    "def ehNaoStopW(palavra):\n",
    "    return palavra not  in  stopwords\n",
    "\n",
    "def getTokens(text):\n",
    "    palavras_tokenize = tokenize.word_tokenize(text.lower(), language='portuguese') \n",
    "    filtered = filter(lambda token: ehNaoStopW(token) , palavras_tokenize)\n",
    "    return list(filtered)\n",
    "\n"
   ]
  },
  {
   "cell_type": "markdown",
   "id": "f53f4787",
   "metadata": {},
   "source": [
    "### 1. uso do nltk para criar um vetor de tokens \n",
    "### 2. aplicar o filtro de stopwords é uma técnica clássica de NLP para evitar interferência de palavras de pouco significado semântico,  tais como  \"a\", \"um\" etc. \n"
   ]
  },
  {
   "cell_type": "code",
   "execution_count": 27,
   "id": "70bbdb3e",
   "metadata": {},
   "outputs": [
    {
     "data": {
      "text/plain": [
       "0.4"
      ]
     },
     "execution_count": 27,
     "metadata": {},
     "output_type": "execute_result"
    }
   ],
   "source": [
    "\n",
    "def jaccard_similarity(x,y):\n",
    "    \"\"\" returns the jaccard similarity between two lists \"\"\"\n",
    "    intersection_cardinality = len(set.intersection(*[set(x), set(y)]))\n",
    "    union_cardinality = len(set.union(*[set(x), set(y)]))\n",
    "    return intersection_cardinality/float(union_cardinality)\n",
    "\n",
    "def similarity(text1,text2):\n",
    "    return jaccard_similarity(getTokens(text1), getTokens(text2) )\n",
    "    \n",
    "    \n",
    "text1 =\"um bom dia para ir A Praia \"\n",
    "text2 =\"um bom dia para surfar \"\n",
    "similarity(text1, text2)\n",
    "    \n"
   ]
  },
  {
   "cell_type": "markdown",
   "id": "929299c2",
   "metadata": {},
   "source": [
    "### O índice de Jaccard, também conhecido como coeficiente de similaridade de Jaccard, é uma estatística usada para medir a similaridade e diversidade de conjuntos de amostras : \n",
    "\n",
    "![alt text](jacarta.jpeg \"índice de Jaccard\")"
   ]
  },
  {
   "cell_type": "markdown",
   "id": "9d512512",
   "metadata": {},
   "source": [
    "### Rodar o algoritmo por todo dataset  (1 tentativa )"
   ]
  },
  {
   "cell_type": "code",
   "execution_count": 28,
   "id": "62e68b8e",
   "metadata": {},
   "outputs": [
    {
     "name": "stdout",
     "output_type": "stream",
     "text": [
      "CPU times: user 8.43 s, sys: 8.53 ms, total: 8.44 s\n",
      "Wall time: 8.44 s\n"
     ]
    }
   ],
   "source": [
    "%%time\n",
    "def getsimilatitem(texto):\n",
    "    maxSmilaridade =0 \n",
    "    termo =\"\" \n",
    "    for i in range(dtitens.shape[0]):\n",
    "        similaridade = similarity(text1, dtitens.iloc[i]['ITE_ITEM_TITLE'])\n",
    "        if similaridade > maxSmilaridade : \n",
    "            maxSmilaridade = similaridade\n",
    "            termo = dtitens.iloc[i]['ITE_ITEM_TITLE']\n",
    "    return  termo , maxSmilaridade          \n",
    "\n",
    "termo,maxSmilaridade = getsimilatitem(\"um bom dia para surfar\")"
   ]
  },
  {
   "cell_type": "code",
   "execution_count": 36,
   "id": "03a1761e",
   "metadata": {},
   "outputs": [
    {
     "name": "stdout",
     "output_type": "stream",
     "text": [
      "Metodo 1 para calcular 30000 linhas  leva 145.8  horas!! \n"
     ]
    }
   ],
   "source": [
    "#  tempo execução em horas \n",
    "tempoexec = (17.5 * dtitens.shape[0]) / 3600\n",
    "print(\"Metodo 1 para calcular {} linhas  leva {:.1f}  horas!! \".format(dtitens.shape[0],tempoexec))\n",
    "\n",
    "\n"
   ]
  },
  {
   "cell_type": "code",
   "execution_count": null,
   "id": "988c4564",
   "metadata": {},
   "outputs": [],
   "source": []
  },
  {
   "cell_type": "markdown",
   "id": "33889c0f",
   "metadata": {},
   "source": [
    "\n",
    "### Rodar o algoritmo por todo dataset  (2 tentativa )"
   ]
  },
  {
   "cell_type": "code",
   "execution_count": 37,
   "id": "0960012f",
   "metadata": {},
   "outputs": [],
   "source": [
    "# cria base de dados tokenizada\n",
    "textosBase =[]\n",
    "for i in range(dtitens.shape[0]):\n",
    "    texto = dtitens.iloc[i]['ITE_ITEM_TITLE']\n",
    "    palavras_tokenize = getTokens(texto)\n",
    "    textosBase.append( [texto,  palavras_tokenize] )                      \n",
    "                            \n",
    "                            "
   ]
  },
  {
   "cell_type": "code",
   "execution_count": 38,
   "id": "f77a31e3",
   "metadata": {},
   "outputs": [
    {
     "name": "stdout",
     "output_type": "stream",
     "text": [
      "CPU times: user 67.4 ms, sys: 0 ns, total: 67.4 ms\n",
      "Wall time: 66.5 ms\n"
     ]
    },
    {
     "data": {
      "text/plain": [
       "('Tênis Muito Bom', 0.25)"
      ]
     },
     "execution_count": 38,
     "metadata": {},
     "output_type": "execute_result"
    }
   ],
   "source": [
    "%%time\n",
    "def getsimilatitem2(texto):\n",
    "    maxSmilaridade =0 \n",
    "    termo =\"\" \n",
    "    palavras_tokenize = getTokens(texto)\n",
    "    for item in textosBase:\n",
    "        if  item[0]!= texto:\n",
    "            similaridade = jaccard_similarity(palavras_tokenize, item[1])\n",
    "            if similaridade > maxSmilaridade : \n",
    "                maxSmilaridade = similaridade\n",
    "                termo = item[0]\n",
    "    return  termo , maxSmilaridade          \n",
    "\n",
    "termo,maxSmilaridade = getsimilatitem2(\"um bom dia para surfar\")\n",
    "termo,maxSmilaridade"
   ]
  },
  {
   "cell_type": "code",
   "execution_count": 39,
   "id": "d8be5b15",
   "metadata": {},
   "outputs": [
    {
     "name": "stdout",
     "output_type": "stream",
     "text": [
      "Método 2 para calcular 30000 linhas  leva 1.6  horas!! \n"
     ]
    }
   ],
   "source": [
    "#  tempo execução em horas \n",
    "tempoexec = (0.195 * dtitens.shape[0]) / 3600\n",
    "print(\"Método 2 para calcular {} linhas  leva {:.1f}  horas!! \".format(dtitens.shape[0],tempoexec))"
   ]
  },
  {
   "cell_type": "code",
   "execution_count": 93,
   "id": "302b4d3a",
   "metadata": {},
   "outputs": [
    {
     "name": "stderr",
     "output_type": "stream",
     "text": [
      "100%|██████████| 30000/30000 [44:17<00:00, 11.29it/s] \n"
     ]
    }
   ],
   "source": [
    "# cria base de dados similaridade\n",
    "from tqdm import tqdm\n",
    "\n",
    "textosIndexados =[]\n",
    "for i in tqdm(range(dtitens.shape[0])):\n",
    "    texto = dtitens.iloc[i]['ITE_ITEM_TITLE']\n",
    "    textosimilar,maxSmilaridade = getsimilatitem2(texto)\n",
    "    textosIndexados.append((texto,textosimilar, maxSmilaridade) )\n",
    "    "
   ]
  },
  {
   "cell_type": "code",
   "execution_count": 96,
   "id": "7eb6b1f6",
   "metadata": {},
   "outputs": [],
   "source": [
    "df = pd.DataFrame (textosIndexados, columns = ['ITE_ITEM_TITLE','ITE_ITEM_TITLE', 'Score Similitud (0,1)' ])\n",
    "df.to_csv(\"q2_similar_result.csv\")\n",
    "# dataset gerado : q2_similar_result.csv"
   ]
  },
  {
   "cell_type": "code",
   "execution_count": 97,
   "id": "9030d2f7",
   "metadata": {},
   "outputs": [
    {
     "data": {
      "text/html": [
       "<div>\n",
       "<style scoped>\n",
       "    .dataframe tbody tr th:only-of-type {\n",
       "        vertical-align: middle;\n",
       "    }\n",
       "\n",
       "    .dataframe tbody tr th {\n",
       "        vertical-align: top;\n",
       "    }\n",
       "\n",
       "    .dataframe thead th {\n",
       "        text-align: right;\n",
       "    }\n",
       "</style>\n",
       "<table border=\"1\" class=\"dataframe\">\n",
       "  <thead>\n",
       "    <tr style=\"text-align: right;\">\n",
       "      <th></th>\n",
       "      <th>ITE_ITEM_TITLE</th>\n",
       "      <th>ITE_ITEM_TITLE</th>\n",
       "      <th>Score Similitud (0,1)</th>\n",
       "    </tr>\n",
       "  </thead>\n",
       "  <tbody>\n",
       "    <tr>\n",
       "      <th>0</th>\n",
       "      <td>Tênis Ascension Posh Masculino - Preto E Verme...</td>\n",
       "      <td>Tênis Masculino Ascension Bx1949 - Preto E Mar...</td>\n",
       "      <td>0.555556</td>\n",
       "    </tr>\n",
       "    <tr>\n",
       "      <th>1</th>\n",
       "      <td>Tenis Para Caminhada Super Levinho Spider Corr...</td>\n",
       "      <td>Tenis Para Caminhada E Corrida</td>\n",
       "      <td>0.500000</td>\n",
       "    </tr>\n",
       "    <tr>\n",
       "      <th>2</th>\n",
       "      <td>Tênis Feminino Le Parc Hocks Black/ice Origina...</td>\n",
       "      <td>Tênis Feminino Hocks Skatista Le Parc Branco E...</td>\n",
       "      <td>0.545455</td>\n",
       "    </tr>\n",
       "    <tr>\n",
       "      <th>3</th>\n",
       "      <td>Tênis Olympikus Esportivo Academia Nova Tendên...</td>\n",
       "      <td>Tênis Olympikus Esportivo Academia Nova Tendên...</td>\n",
       "      <td>0.666667</td>\n",
       "    </tr>\n",
       "    <tr>\n",
       "      <th>4</th>\n",
       "      <td>Inteligente Led Bicicleta Tauda Luz Usb Bicicl...</td>\n",
       "      <td>Sapatos De Menina Sapatos De Luz Led</td>\n",
       "      <td>0.222222</td>\n",
       "    </tr>\n",
       "    <tr>\n",
       "      <th>...</th>\n",
       "      <td>...</td>\n",
       "      <td>...</td>\n",
       "      <td>...</td>\n",
       "    </tr>\n",
       "    <tr>\n",
       "      <th>29995</th>\n",
       "      <td>Tênis Vans Old Skool I Love My Vans - Usado - ...</td>\n",
       "      <td>Tênis Old Skool Clássico Feminino</td>\n",
       "      <td>0.363636</td>\n",
       "    </tr>\n",
       "    <tr>\n",
       "      <th>29996</th>\n",
       "      <td>Tênis Feminino Preto Moleca 5296155</td>\n",
       "      <td>Tênis Feminino Moleca Preto Com Cadarço 5296155</td>\n",
       "      <td>0.833333</td>\n",
       "    </tr>\n",
       "    <tr>\n",
       "      <th>29997</th>\n",
       "      <td>Tenis Botinha Com Pelo Via Marte Original Lanç...</td>\n",
       "      <td>Botinha Com Pelo Tenis Via Marte Outono Invern...</td>\n",
       "      <td>0.625000</td>\n",
       "    </tr>\n",
       "    <tr>\n",
       "      <th>29998</th>\n",
       "      <td>Tênis Slip On Feminino Masculino Original Sapa...</td>\n",
       "      <td>Tênis Taylor Slip On Masculino Feminino Origin...</td>\n",
       "      <td>0.545455</td>\n",
       "    </tr>\n",
       "    <tr>\n",
       "      <th>29999</th>\n",
       "      <td>Bicicleta Nathor Rosa Infantil Sem Pedal Balan...</td>\n",
       "      <td>Bicicleta Infantil Aro 12 Nathor Sem Pedal</td>\n",
       "      <td>0.750000</td>\n",
       "    </tr>\n",
       "  </tbody>\n",
       "</table>\n",
       "<p>30000 rows × 3 columns</p>\n",
       "</div>"
      ],
      "text/plain": [
       "                                          ITE_ITEM_TITLE  \\\n",
       "0      Tênis Ascension Posh Masculino - Preto E Verme...   \n",
       "1      Tenis Para Caminhada Super Levinho Spider Corr...   \n",
       "2      Tênis Feminino Le Parc Hocks Black/ice Origina...   \n",
       "3      Tênis Olympikus Esportivo Academia Nova Tendên...   \n",
       "4      Inteligente Led Bicicleta Tauda Luz Usb Bicicl...   \n",
       "...                                                  ...   \n",
       "29995  Tênis Vans Old Skool I Love My Vans - Usado - ...   \n",
       "29996                Tênis Feminino Preto Moleca 5296155   \n",
       "29997  Tenis Botinha Com Pelo Via Marte Original Lanç...   \n",
       "29998  Tênis Slip On Feminino Masculino Original Sapa...   \n",
       "29999  Bicicleta Nathor Rosa Infantil Sem Pedal Balan...   \n",
       "\n",
       "                                          ITE_ITEM_TITLE  \\\n",
       "0      Tênis Masculino Ascension Bx1949 - Preto E Mar...   \n",
       "1                         Tenis Para Caminhada E Corrida   \n",
       "2      Tênis Feminino Hocks Skatista Le Parc Branco E...   \n",
       "3      Tênis Olympikus Esportivo Academia Nova Tendên...   \n",
       "4                   Sapatos De Menina Sapatos De Luz Led   \n",
       "...                                                  ...   \n",
       "29995                  Tênis Old Skool Clássico Feminino   \n",
       "29996    Tênis Feminino Moleca Preto Com Cadarço 5296155   \n",
       "29997  Botinha Com Pelo Tenis Via Marte Outono Invern...   \n",
       "29998  Tênis Taylor Slip On Masculino Feminino Origin...   \n",
       "29999         Bicicleta Infantil Aro 12 Nathor Sem Pedal   \n",
       "\n",
       "       Score Similitud (0,1)  \n",
       "0                   0.555556  \n",
       "1                   0.500000  \n",
       "2                   0.545455  \n",
       "3                   0.666667  \n",
       "4                   0.222222  \n",
       "...                      ...  \n",
       "29995               0.363636  \n",
       "29996               0.833333  \n",
       "29997               0.625000  \n",
       "29998               0.545455  \n",
       "29999               0.750000  \n",
       "\n",
       "[30000 rows x 3 columns]"
      ]
     },
     "execution_count": 97,
     "metadata": {},
     "output_type": "execute_result"
    }
   ],
   "source": [
    "df"
   ]
  }
 ],
 "metadata": {
  "kernelspec": {
   "display_name": "Python 3",
   "language": "python",
   "name": "python3"
  },
  "language_info": {
   "codemirror_mode": {
    "name": "ipython",
    "version": 3
   },
   "file_extension": ".py",
   "mimetype": "text/x-python",
   "name": "python",
   "nbconvert_exporter": "python",
   "pygments_lexer": "ipython3",
   "version": "3.6.9"
  }
 },
 "nbformat": 4,
 "nbformat_minor": 5
}
